{
  "cells": [
    {
      "cell_type": "markdown",
      "metadata": {
        "id": "view-in-github",
        "colab_type": "text"
      },
      "source": [
        "<a href=\"https://colab.research.google.com/github/KrishnaMore1983/EDA-on-Virat-Kohi-Overall-Century-till-2022/blob/main/Major_Project_2_EDA.ipynb\" target=\"_parent\"><img src=\"https://colab.research.google.com/assets/colab-badge.svg\" alt=\"Open In Colab\"/></a>"
      ]
    },
    {
      "cell_type": "code",
      "execution_count": null,
      "metadata": {
        "colab": {
          "base_uri": "https://localhost:8080/",
          "height": 939
        },
        "id": "whw4u7u0An3X",
        "outputId": "2626f5cb-ab81-4664-ae4e-ed0772fd8cca"
      },
      "outputs": [
        {
          "data": {
            "text/html": [
              "\n",
              "  <div id=\"df-26d185ce-702f-403f-9b2a-475e44ef8a05\">\n",
              "    <div class=\"colab-df-container\">\n",
              "      <div>\n",
              "<style scoped>\n",
              "    .dataframe tbody tr th:only-of-type {\n",
              "        vertical-align: middle;\n",
              "    }\n",
              "\n",
              "    .dataframe tbody tr th {\n",
              "        vertical-align: top;\n",
              "    }\n",
              "\n",
              "    .dataframe thead th {\n",
              "        text-align: right;\n",
              "    }\n",
              "</style>\n",
              "<table border=\"1\" class=\"dataframe\">\n",
              "  <thead>\n",
              "    <tr style=\"text-align: right;\">\n",
              "      <th></th>\n",
              "      <th>Score</th>\n",
              "      <th>Out/Not Out</th>\n",
              "      <th>Against</th>\n",
              "      <th>Batting Order</th>\n",
              "      <th>Inn.</th>\n",
              "      <th>Strike Rate</th>\n",
              "      <th>Venue</th>\n",
              "      <th>Column1</th>\n",
              "      <th>H/A</th>\n",
              "      <th>Date</th>\n",
              "      <th>Result</th>\n",
              "      <th>Format</th>\n",
              "      <th>Man of the Match</th>\n",
              "      <th>Captain</th>\n",
              "      <th>Unnamed: 14</th>\n",
              "    </tr>\n",
              "  </thead>\n",
              "  <tbody>\n",
              "    <tr>\n",
              "      <th>0</th>\n",
              "      <td>116</td>\n",
              "      <td>Out</td>\n",
              "      <td>Australia</td>\n",
              "      <td>6</td>\n",
              "      <td>2</td>\n",
              "      <td>NaN</td>\n",
              "      <td>Adelaide Oval</td>\n",
              "      <td>Adelaide</td>\n",
              "      <td>Away</td>\n",
              "      <td>24-01-2012</td>\n",
              "      <td>Lost</td>\n",
              "      <td>Test</td>\n",
              "      <td>No</td>\n",
              "      <td>No</td>\n",
              "      <td>NaN</td>\n",
              "    </tr>\n",
              "    <tr>\n",
              "      <th>1</th>\n",
              "      <td>103</td>\n",
              "      <td>Out</td>\n",
              "      <td>New Zealand</td>\n",
              "      <td>5</td>\n",
              "      <td>2</td>\n",
              "      <td>NaN</td>\n",
              "      <td>M. Chinnaswamy Stadium</td>\n",
              "      <td>Bangalore</td>\n",
              "      <td>Home</td>\n",
              "      <td>31-08-2012</td>\n",
              "      <td>Won</td>\n",
              "      <td>Test</td>\n",
              "      <td>Yes</td>\n",
              "      <td>No</td>\n",
              "      <td>NaN</td>\n",
              "    </tr>\n",
              "    <tr>\n",
              "      <th>2</th>\n",
              "      <td>103</td>\n",
              "      <td>Out</td>\n",
              "      <td>England</td>\n",
              "      <td>5</td>\n",
              "      <td>2</td>\n",
              "      <td>NaN</td>\n",
              "      <td>Vidarbha Cricket Association Stadium</td>\n",
              "      <td>Nagpur</td>\n",
              "      <td>Home</td>\n",
              "      <td>13-12-2012</td>\n",
              "      <td>Drawn</td>\n",
              "      <td>Test</td>\n",
              "      <td>No</td>\n",
              "      <td>No</td>\n",
              "      <td>NaN</td>\n",
              "    </tr>\n",
              "    <tr>\n",
              "      <th>3</th>\n",
              "      <td>107</td>\n",
              "      <td>Out</td>\n",
              "      <td>Australia</td>\n",
              "      <td>5</td>\n",
              "      <td>2</td>\n",
              "      <td>NaN</td>\n",
              "      <td>M. A. Chidambaram Stadium</td>\n",
              "      <td>Chennai</td>\n",
              "      <td>Home</td>\n",
              "      <td>22-02-2013</td>\n",
              "      <td>Won</td>\n",
              "      <td>Test</td>\n",
              "      <td>No</td>\n",
              "      <td>No</td>\n",
              "      <td>NaN</td>\n",
              "    </tr>\n",
              "    <tr>\n",
              "      <th>4</th>\n",
              "      <td>119</td>\n",
              "      <td>Out</td>\n",
              "      <td>South Africa</td>\n",
              "      <td>4</td>\n",
              "      <td>1</td>\n",
              "      <td>NaN</td>\n",
              "      <td>Wanderers Stadium</td>\n",
              "      <td>Johannesburg</td>\n",
              "      <td>Away</td>\n",
              "      <td>18-12-2013</td>\n",
              "      <td>Drawn</td>\n",
              "      <td>Test</td>\n",
              "      <td>No</td>\n",
              "      <td>No</td>\n",
              "      <td>NaN</td>\n",
              "    </tr>\n",
              "    <tr>\n",
              "      <th>...</th>\n",
              "      <td>...</td>\n",
              "      <td>...</td>\n",
              "      <td>...</td>\n",
              "      <td>...</td>\n",
              "      <td>...</td>\n",
              "      <td>...</td>\n",
              "      <td>...</td>\n",
              "      <td>...</td>\n",
              "      <td>...</td>\n",
              "      <td>...</td>\n",
              "      <td>...</td>\n",
              "      <td>...</td>\n",
              "      <td>...</td>\n",
              "      <td>...</td>\n",
              "      <td>...</td>\n",
              "    </tr>\n",
              "    <tr>\n",
              "      <th>66</th>\n",
              "      <td>116</td>\n",
              "      <td>Out</td>\n",
              "      <td>Australia</td>\n",
              "      <td>3</td>\n",
              "      <td>1</td>\n",
              "      <td>96.67</td>\n",
              "      <td>Vidarbha Cricket Association Stadium</td>\n",
              "      <td>Nagpur</td>\n",
              "      <td>Home</td>\n",
              "      <td>05-03-2019</td>\n",
              "      <td>Won</td>\n",
              "      <td>ODI</td>\n",
              "      <td>Yes</td>\n",
              "      <td>Yes</td>\n",
              "      <td>NaN</td>\n",
              "    </tr>\n",
              "    <tr>\n",
              "      <th>67</th>\n",
              "      <td>123</td>\n",
              "      <td>Out</td>\n",
              "      <td>Australia</td>\n",
              "      <td>3</td>\n",
              "      <td>2</td>\n",
              "      <td>129.47</td>\n",
              "      <td>JSCA International Stadium</td>\n",
              "      <td>Ranchi</td>\n",
              "      <td>Home</td>\n",
              "      <td>08-03-2019</td>\n",
              "      <td>Lost</td>\n",
              "      <td>ODI</td>\n",
              "      <td>No</td>\n",
              "      <td>Yes</td>\n",
              "      <td>NaN</td>\n",
              "    </tr>\n",
              "    <tr>\n",
              "      <th>68</th>\n",
              "      <td>120</td>\n",
              "      <td>Out</td>\n",
              "      <td>West Indies</td>\n",
              "      <td>3</td>\n",
              "      <td>1</td>\n",
              "      <td>96.00</td>\n",
              "      <td>Queen's Park Oval</td>\n",
              "      <td>Port of Spain</td>\n",
              "      <td>Away</td>\n",
              "      <td>11-08-2019</td>\n",
              "      <td>Won</td>\n",
              "      <td>ODI</td>\n",
              "      <td>Yes</td>\n",
              "      <td>Yes</td>\n",
              "      <td>NaN</td>\n",
              "    </tr>\n",
              "    <tr>\n",
              "      <th>69</th>\n",
              "      <td>114</td>\n",
              "      <td>Not Out</td>\n",
              "      <td>West Indies</td>\n",
              "      <td>3</td>\n",
              "      <td>2</td>\n",
              "      <td>115.15</td>\n",
              "      <td>Queen's Park Oval</td>\n",
              "      <td>Port of Spain</td>\n",
              "      <td>Away</td>\n",
              "      <td>14-08-2019</td>\n",
              "      <td>Won</td>\n",
              "      <td>ODI</td>\n",
              "      <td>Yes</td>\n",
              "      <td>Yes</td>\n",
              "      <td>NaN</td>\n",
              "    </tr>\n",
              "    <tr>\n",
              "      <th>70</th>\n",
              "      <td>122</td>\n",
              "      <td>Not Out</td>\n",
              "      <td>Afganistan</td>\n",
              "      <td>1</td>\n",
              "      <td>1</td>\n",
              "      <td>200.00</td>\n",
              "      <td>Dubai International Cricket Stadium</td>\n",
              "      <td>Dubai</td>\n",
              "      <td>Away</td>\n",
              "      <td>08-09-2022</td>\n",
              "      <td>Won</td>\n",
              "      <td>T20I</td>\n",
              "      <td>Yes</td>\n",
              "      <td>No</td>\n",
              "      <td>NaN</td>\n",
              "    </tr>\n",
              "  </tbody>\n",
              "</table>\n",
              "<p>71 rows × 15 columns</p>\n",
              "</div>\n",
              "      <button class=\"colab-df-convert\" onclick=\"convertToInteractive('df-26d185ce-702f-403f-9b2a-475e44ef8a05')\"\n",
              "              title=\"Convert this dataframe to an interactive table.\"\n",
              "              style=\"display:none;\">\n",
              "        \n",
              "  <svg xmlns=\"http://www.w3.org/2000/svg\" height=\"24px\"viewBox=\"0 0 24 24\"\n",
              "       width=\"24px\">\n",
              "    <path d=\"M0 0h24v24H0V0z\" fill=\"none\"/>\n",
              "    <path d=\"M18.56 5.44l.94 2.06.94-2.06 2.06-.94-2.06-.94-.94-2.06-.94 2.06-2.06.94zm-11 1L8.5 8.5l.94-2.06 2.06-.94-2.06-.94L8.5 2.5l-.94 2.06-2.06.94zm10 10l.94 2.06.94-2.06 2.06-.94-2.06-.94-.94-2.06-.94 2.06-2.06.94z\"/><path d=\"M17.41 7.96l-1.37-1.37c-.4-.4-.92-.59-1.43-.59-.52 0-1.04.2-1.43.59L10.3 9.45l-7.72 7.72c-.78.78-.78 2.05 0 2.83L4 21.41c.39.39.9.59 1.41.59.51 0 1.02-.2 1.41-.59l7.78-7.78 2.81-2.81c.8-.78.8-2.07 0-2.86zM5.41 20L4 18.59l7.72-7.72 1.47 1.35L5.41 20z\"/>\n",
              "  </svg>\n",
              "      </button>\n",
              "      \n",
              "  <style>\n",
              "    .colab-df-container {\n",
              "      display:flex;\n",
              "      flex-wrap:wrap;\n",
              "      gap: 12px;\n",
              "    }\n",
              "\n",
              "    .colab-df-convert {\n",
              "      background-color: #E8F0FE;\n",
              "      border: none;\n",
              "      border-radius: 50%;\n",
              "      cursor: pointer;\n",
              "      display: none;\n",
              "      fill: #1967D2;\n",
              "      height: 32px;\n",
              "      padding: 0 0 0 0;\n",
              "      width: 32px;\n",
              "    }\n",
              "\n",
              "    .colab-df-convert:hover {\n",
              "      background-color: #E2EBFA;\n",
              "      box-shadow: 0px 1px 2px rgba(60, 64, 67, 0.3), 0px 1px 3px 1px rgba(60, 64, 67, 0.15);\n",
              "      fill: #174EA6;\n",
              "    }\n",
              "\n",
              "    [theme=dark] .colab-df-convert {\n",
              "      background-color: #3B4455;\n",
              "      fill: #D2E3FC;\n",
              "    }\n",
              "\n",
              "    [theme=dark] .colab-df-convert:hover {\n",
              "      background-color: #434B5C;\n",
              "      box-shadow: 0px 1px 3px 1px rgba(0, 0, 0, 0.15);\n",
              "      filter: drop-shadow(0px 1px 2px rgba(0, 0, 0, 0.3));\n",
              "      fill: #FFFFFF;\n",
              "    }\n",
              "  </style>\n",
              "\n",
              "      <script>\n",
              "        const buttonEl =\n",
              "          document.querySelector('#df-26d185ce-702f-403f-9b2a-475e44ef8a05 button.colab-df-convert');\n",
              "        buttonEl.style.display =\n",
              "          google.colab.kernel.accessAllowed ? 'block' : 'none';\n",
              "\n",
              "        async function convertToInteractive(key) {\n",
              "          const element = document.querySelector('#df-26d185ce-702f-403f-9b2a-475e44ef8a05');\n",
              "          const dataTable =\n",
              "            await google.colab.kernel.invokeFunction('convertToInteractive',\n",
              "                                                     [key], {});\n",
              "          if (!dataTable) return;\n",
              "\n",
              "          const docLinkHtml = 'Like what you see? Visit the ' +\n",
              "            '<a target=\"_blank\" href=https://colab.research.google.com/notebooks/data_table.ipynb>data table notebook</a>'\n",
              "            + ' to learn more about interactive tables.';\n",
              "          element.innerHTML = '';\n",
              "          dataTable['output_type'] = 'display_data';\n",
              "          await google.colab.output.renderOutput(dataTable, element);\n",
              "          const docLink = document.createElement('div');\n",
              "          docLink.innerHTML = docLinkHtml;\n",
              "          element.appendChild(docLink);\n",
              "        }\n",
              "      </script>\n",
              "    </div>\n",
              "  </div>\n",
              "  "
            ],
            "text/plain": [
              "    Score Out/Not Out       Against  Batting Order  Inn.  Strike Rate  \\\n",
              "0     116         Out     Australia              6     2          NaN   \n",
              "1     103         Out   New Zealand              5     2          NaN   \n",
              "2     103         Out       England              5     2          NaN   \n",
              "3     107         Out     Australia              5     2          NaN   \n",
              "4     119         Out  South Africa              4     1          NaN   \n",
              "..    ...         ...           ...            ...   ...          ...   \n",
              "66    116         Out     Australia              3     1        96.67   \n",
              "67    123         Out     Australia              3     2       129.47   \n",
              "68    120         Out   West Indies              3     1        96.00   \n",
              "69    114     Not Out   West Indies              3     2       115.15   \n",
              "70    122     Not Out    Afganistan              1     1       200.00   \n",
              "\n",
              "                                   Venue         Column1   H/A        Date  \\\n",
              "0                          Adelaide Oval        Adelaide  Away  24-01-2012   \n",
              "1                 M. Chinnaswamy Stadium       Bangalore  Home  31-08-2012   \n",
              "2   Vidarbha Cricket Association Stadium          Nagpur  Home  13-12-2012   \n",
              "3              M. A. Chidambaram Stadium         Chennai  Home  22-02-2013   \n",
              "4                      Wanderers Stadium    Johannesburg  Away  18-12-2013   \n",
              "..                                   ...             ...   ...         ...   \n",
              "66  Vidarbha Cricket Association Stadium          Nagpur  Home  05-03-2019   \n",
              "67            JSCA International Stadium          Ranchi  Home  08-03-2019   \n",
              "68                     Queen's Park Oval   Port of Spain  Away  11-08-2019   \n",
              "69                     Queen's Park Oval   Port of Spain  Away  14-08-2019   \n",
              "70   Dubai International Cricket Stadium           Dubai  Away  08-09-2022   \n",
              "\n",
              "   Result Format Man of the Match Captain  Unnamed: 14  \n",
              "0    Lost   Test               No      No          NaN  \n",
              "1     Won   Test              Yes      No          NaN  \n",
              "2   Drawn   Test               No      No          NaN  \n",
              "3     Won   Test               No      No          NaN  \n",
              "4   Drawn   Test               No      No          NaN  \n",
              "..    ...    ...              ...     ...          ...  \n",
              "66    Won    ODI              Yes     Yes          NaN  \n",
              "67   Lost    ODI               No     Yes          NaN  \n",
              "68    Won    ODI              Yes     Yes          NaN  \n",
              "69    Won    ODI              Yes     Yes          NaN  \n",
              "70    Won   T20I              Yes      No          NaN  \n",
              "\n",
              "[71 rows x 15 columns]"
            ]
          },
          "execution_count": 2,
          "metadata": {},
          "output_type": "execute_result"
        }
      ],
      "source": [
        "##MAJOR PROJECT##\n",
        "#EXPLOTARY DATA ANALYSIS USING DATASET#\n",
        "#EDA ON VIRAT KOHLI CENTURIES SCORED BY HIM IN ALL FORMATS\n",
        "\n",
        "#1.Take the data and create dataframe\n",
        "import pandas as pd\n",
        "df=pd.read_csv('/content/71 Centuries of Virat Kohli.csv')\n",
        "df"
      ]
    },
    {
      "cell_type": "code",
      "execution_count": null,
      "metadata": {
        "colab": {
          "base_uri": "https://localhost:8080/"
        },
        "id": "QkbJN8f_CpHD",
        "outputId": "c19d5f94-99e0-4572-ccf5-c618f9155221"
      },
      "outputs": [
        {
          "data": {
            "text/plain": [
              "(71, 15)"
            ]
          },
          "execution_count": 3,
          "metadata": {},
          "output_type": "execute_result"
        }
      ],
      "source": [
        "df.shape   #71 rows and 15 column"
      ]
    },
    {
      "cell_type": "code",
      "execution_count": null,
      "metadata": {
        "colab": {
          "base_uri": "https://localhost:8080/"
        },
        "id": "t_XLSUOHFEdc",
        "outputId": "2504e90e-dbe9-4e1c-bb7f-b654f08de496"
      },
      "outputs": [
        {
          "data": {
            "text/plain": [
              "1065"
            ]
          },
          "execution_count": 4,
          "metadata": {},
          "output_type": "execute_result"
        }
      ],
      "source": [
        "df.size  #Total no of elements in dataframe"
      ]
    },
    {
      "cell_type": "code",
      "execution_count": null,
      "metadata": {
        "colab": {
          "base_uri": "https://localhost:8080/"
        },
        "id": "IUOegHKYFNH9",
        "outputId": "6185fe30-bd00-4461-de29-dbc6a8984001"
      },
      "outputs": [
        {
          "name": "stdout",
          "output_type": "stream",
          "text": [
            "<class 'pandas.core.frame.DataFrame'>\n",
            "RangeIndex: 71 entries, 0 to 70\n",
            "Data columns (total 15 columns):\n",
            " #   Column            Non-Null Count  Dtype  \n",
            "---  ------            --------------  -----  \n",
            " 0   Score             71 non-null     int64  \n",
            " 1   Out/Not Out       71 non-null     object \n",
            " 2   Against           71 non-null     object \n",
            " 3   Batting Order     71 non-null     int64  \n",
            " 4   Inn.              71 non-null     int64  \n",
            " 5   Strike Rate       44 non-null     float64\n",
            " 6   Venue             71 non-null     object \n",
            " 7   Column1           71 non-null     object \n",
            " 8   H/A               71 non-null     object \n",
            " 9   Date              71 non-null     object \n",
            " 10  Result            71 non-null     object \n",
            " 11  Format            71 non-null     object \n",
            " 12  Man of the Match  71 non-null     object \n",
            " 13  Captain           71 non-null     object \n",
            " 14  Unnamed: 14       0 non-null      float64\n",
            "dtypes: float64(2), int64(3), object(10)\n",
            "memory usage: 8.4+ KB\n"
          ]
        }
      ],
      "source": [
        "df.info()   # It gives the complete information about the dataframe"
      ]
    },
    {
      "cell_type": "code",
      "execution_count": null,
      "metadata": {
        "colab": {
          "base_uri": "https://localhost:8080/"
        },
        "id": "9gxBsN5YFV1F",
        "outputId": "7d6a66ee-0d87-4d3c-91bc-1c93c4885edb"
      },
      "outputs": [
        {
          "data": {
            "text/plain": [
              "Score                0\n",
              "Out/Not Out          0\n",
              "Against              0\n",
              "Batting Order        0\n",
              "Inn.                 0\n",
              "Strike Rate         27\n",
              "Venue                0\n",
              "Column1              0\n",
              "H/A                  0\n",
              "Date                 0\n",
              "Result               0\n",
              "Format               0\n",
              "Man of the Match     0\n",
              "Captain              0\n",
              "Unnamed: 14         71\n",
              "dtype: int64"
            ]
          },
          "execution_count": 6,
          "metadata": {},
          "output_type": "execute_result"
        }
      ],
      "source": [
        "df.isnull().sum()  #To check the null values"
      ]
    },
    {
      "cell_type": "code",
      "execution_count": null,
      "metadata": {
        "colab": {
          "base_uri": "https://localhost:8080/"
        },
        "id": "uLFKFkkHFrRQ",
        "outputId": "0b96f82b-6aea-4677-e2f6-f6ddf2b25d06"
      },
      "outputs": [
        {
          "data": {
            "text/plain": [
              "Score               48\n",
              "Out/Not Out          2\n",
              "Against             10\n",
              "Batting Order        5\n",
              "Inn.                 4\n",
              "Strike Rate         44\n",
              "Venue               45\n",
              "Column1             42\n",
              "H/A                  2\n",
              "Date                70\n",
              "Result               6\n",
              "Format               3\n",
              "Man of the Match     2\n",
              "Captain              2\n",
              "Unnamed: 14          0\n",
              "dtype: int64"
            ]
          },
          "execution_count": 7,
          "metadata": {},
          "output_type": "execute_result"
        }
      ],
      "source": [
        "df.nunique()"
      ]
    },
    {
      "cell_type": "code",
      "execution_count": null,
      "metadata": {
        "colab": {
          "base_uri": "https://localhost:8080/",
          "height": 297
        },
        "id": "mrfwPlEqF5Lb",
        "outputId": "1214d19c-a6d1-4ee7-e797-c5bab0f20e9d"
      },
      "outputs": [
        {
          "data": {
            "text/plain": [
              "<matplotlib.axes._subplots.AxesSubplot at 0x7f8e01ceabb0>"
            ]
          },
          "execution_count": 65,
          "metadata": {},
          "output_type": "execute_result"
        },
        {
          "data": {
            "image/png": "[encoded data removed]",
            "text/plain": [
              "<Figure size 432x288 with 1 Axes>"
            ]
          },
          "metadata": {},
          "output_type": "display_data"
        }
      ],
      "source": [
        "import seaborn as sns                 #Visualisation-using seaborn\n",
        "sns.countplot(x='Out/Not Out',data=df)   #This Visualisation tells about how many times did virat was remained Notout after hitting century"
      ]
    },
    {
      "cell_type": "code",
      "execution_count": null,
      "metadata": {
        "colab": {
          "base_uri": "https://localhost:8080/"
        },
        "id": "lL3t3XwfGs6O",
        "outputId": "a66bd22f-41ad-4215-fc33-bed454107f6a"
      },
      "outputs": [
        {
          "data": {
            "text/plain": [
              "Out        51\n",
              "Not Out    20\n",
              "Name: Out/Not Out, dtype: int64"
            ]
          },
          "execution_count": 14,
          "metadata": {},
          "output_type": "execute_result"
        }
      ],
      "source": [
        "df['Out/Not Out'].value_counts()                     #No.of Out/Notout after hitting century"
      ]
    },
    {
      "cell_type": "code",
      "execution_count": null,
      "metadata": {
        "colab": {
          "base_uri": "https://localhost:8080/"
        },
        "id": "p90XroWHHvfZ",
        "outputId": "ec2f782d-6ff5-4d67-cd6a-7f98e0bba393"
      },
      "outputs": [
        {
          "data": {
            "text/plain": [
              "Won           48\n",
              "Lost          13\n",
              "Drawn          7\n",
              "Lost (D/L)     1\n",
              "Won (D/L)      1\n",
              "Tied           1\n",
              "Name: Result, dtype: int64"
            ]
          },
          "execution_count": 20,
          "metadata": {},
          "output_type": "execute_result"
        }
      ],
      "source": [
        "df['Result'].value_counts()                         #Result when Virat scored a Century"
      ]
    },
    {
      "cell_type": "code",
      "execution_count": null,
      "metadata": {
        "colab": {
          "base_uri": "https://localhost:8080/"
        },
        "id": "dNVTE4h6H8jb",
        "outputId": "46a5eafb-ac05-4331-84a3-2456257b6817"
      },
      "outputs": [
        {
          "data": {
            "text/plain": [
              "Away    39\n",
              "Home    32\n",
              "Name: H/A, dtype: int64"
            ]
          },
          "execution_count": 24,
          "metadata": {},
          "output_type": "execute_result"
        }
      ],
      "source": [
        "df['H/A'].value_counts()                       #Scored 39 centuries in India(Home) and 32 in other country(Away)"
      ]
    },
    {
      "cell_type": "code",
      "execution_count": null,
      "metadata": {
        "colab": {
          "base_uri": "https://localhost:8080/"
        },
        "id": "DrluFoxTI499",
        "outputId": "a65eb933-fe8f-45ed-9f9d-cb9a585a6431"
      },
      "outputs": [
        {
          "data": {
            "text/plain": [
              "ODI     43\n",
              "Test    27\n",
              "T20I     1\n",
              "Name: Format, dtype: int64"
            ]
          },
          "execution_count": 25,
          "metadata": {},
          "output_type": "execute_result"
        }
      ],
      "source": [
        "df['Format'].value_counts()                    #No of Centuries scored in terms of Format"
      ]
    },
    {
      "cell_type": "code",
      "execution_count": null,
      "metadata": {
        "colab": {
          "base_uri": "https://localhost:8080/"
        },
        "id": "Ryd8D364JfBI",
        "outputId": "1b9e5dbd-6563-490f-b2b2-97123efbdc0b"
      },
      "outputs": [
        {
          "data": {
            "text/plain": [
              "Yes    41\n",
              "No     30\n",
              "Name: Captain, dtype: int64"
            ]
          },
          "execution_count": 26,
          "metadata": {},
          "output_type": "execute_result"
        }
      ],
      "source": [
        "df['Captain'].value_counts()                   #Scored 41 Century as a Captain and 30 as a player"
      ]
    },
    {
      "cell_type": "code",
      "execution_count": null,
      "metadata": {
        "colab": {
          "base_uri": "https://localhost:8080/"
        },
        "id": "AoEbjKkoJoRx",
        "outputId": "a7a79bcf-8eb8-4566-d551-3bc9aaa0ea86"
      },
      "outputs": [
        {
          "data": {
            "text/plain": [
              "3    36\n",
              "4    30\n",
              "5     3\n",
              "6     1\n",
              "1     1\n",
              "Name: Batting Order, dtype: int64"
            ]
          },
          "execution_count": 28,
          "metadata": {},
          "output_type": "execute_result"
        }
      ],
      "source": [
        "df['Batting Order'].value_counts()             #Centuries Scored by Virat On the basis of Batting Order."
      ]
    },
    {
      "cell_type": "code",
      "execution_count": null,
      "metadata": {
        "colab": {
          "base_uri": "https://localhost:8080/"
        },
        "id": "6fJfjl_4J4_k",
        "outputId": "2e375e86-d587-49cf-89ef-d965ce2e7515"
      },
      "outputs": [
        {
          "data": {
            "text/plain": [
              "Australia       15\n",
              "Sri Lanka       13\n",
              "West Indies     11\n",
              "New Zealand      8\n",
              "England          8\n",
              "South Africa     7\n",
              "Bangladesh       5\n",
              "Pakistan         2\n",
              "Zimbabwe         1\n",
              "Afganistan       1\n",
              "Name: Against, dtype: int64"
            ]
          },
          "execution_count": 29,
          "metadata": {},
          "output_type": "execute_result"
        }
      ],
      "source": [
        "df['Against'].value_counts()                 #No of centuries scored by Virat in terms of Opponent"
      ]
    },
    {
      "cell_type": "code",
      "execution_count": null,
      "metadata": {
        "colab": {
          "base_uri": "https://localhost:8080/"
        },
        "id": "qyrwisQcKHVi",
        "outputId": "a31474c6-101a-4b32-8414-efef6df03fd5"
      },
      "outputs": [
        {
          "name": "stdout",
          "output_type": "stream",
          "text": [
            "<class 'pandas.core.frame.DataFrame'>\n",
            "RangeIndex: 71 entries, 0 to 70\n",
            "Data columns (total 16 columns):\n",
            " #   Column            Non-Null Count  Dtype  \n",
            "---  ------            --------------  -----  \n",
            " 0   Score             71 non-null     int64  \n",
            " 1   Out/Not Out       71 non-null     object \n",
            " 2   Against           71 non-null     object \n",
            " 3   Batting Order     71 non-null     int64  \n",
            " 4   Inn.              71 non-null     int64  \n",
            " 5   Strike Rate       44 non-null     float64\n",
            " 6   Venue             71 non-null     object \n",
            " 7   Column1           71 non-null     object \n",
            " 8   H/A               71 non-null     object \n",
            " 9   Date              71 non-null     object \n",
            " 10  Result            71 non-null     object \n",
            " 11  Format            71 non-null     object \n",
            " 12  Man of the Match  71 non-null     object \n",
            " 13  Captain           71 non-null     object \n",
            " 14  Unnamed: 14       0 non-null      float64\n",
            " 15  year              71 non-null     int64  \n",
            "dtypes: float64(2), int64(4), object(10)\n",
            "memory usage: 9.0+ KB\n"
          ]
        }
      ],
      "source": [
        "df['year']=pd.to_datetime(df['Date'])                                                   \n",
        "df['year']=df['year'].dt.year\n",
        "df['Date']=df['Date'].replace('08-09-2022','09-08-2022')\n",
        "df.info()"
      ]
    },
    {
      "cell_type": "code",
      "execution_count": null,
      "metadata": {
        "colab": {
          "base_uri": "https://localhost:8080/",
          "height": 300
        },
        "id": "unkp7o55KWrL",
        "outputId": "015bf821-73ac-4589-f811-e393bd67a475"
      },
      "outputs": [
        {
          "data": {
            "text/html": [
              "\n",
              "  <div id=\"df-bd2f8194-84b1-480a-b72c-8435a6790256\">\n",
              "    <div class=\"colab-df-container\">\n",
              "      <div>\n",
              "<style scoped>\n",
              "    .dataframe tbody tr th:only-of-type {\n",
              "        vertical-align: middle;\n",
              "    }\n",
              "\n",
              "    .dataframe tbody tr th {\n",
              "        vertical-align: top;\n",
              "    }\n",
              "\n",
              "    .dataframe thead th {\n",
              "        text-align: right;\n",
              "    }\n",
              "</style>\n",
              "<table border=\"1\" class=\"dataframe\">\n",
              "  <thead>\n",
              "    <tr style=\"text-align: right;\">\n",
              "      <th></th>\n",
              "      <th>Score</th>\n",
              "      <th>Batting Order</th>\n",
              "      <th>Inn.</th>\n",
              "      <th>Strike Rate</th>\n",
              "      <th>Unnamed: 14</th>\n",
              "    </tr>\n",
              "  </thead>\n",
              "  <tbody>\n",
              "    <tr>\n",
              "      <th>count</th>\n",
              "      <td>71.000000</td>\n",
              "      <td>71.000000</td>\n",
              "      <td>71.000000</td>\n",
              "      <td>44.000000</td>\n",
              "      <td>0.0</td>\n",
              "    </tr>\n",
              "    <tr>\n",
              "      <th>mean</th>\n",
              "      <td>132.140845</td>\n",
              "      <td>3.521127</td>\n",
              "      <td>1.732394</td>\n",
              "      <td>114.019545</td>\n",
              "      <td>NaN</td>\n",
              "    </tr>\n",
              "    <tr>\n",
              "      <th>std</th>\n",
              "      <td>35.911119</td>\n",
              "      <td>0.714326</td>\n",
              "      <td>0.675230</td>\n",
              "      <td>25.257567</td>\n",
              "      <td>NaN</td>\n",
              "    </tr>\n",
              "    <tr>\n",
              "      <th>min</th>\n",
              "      <td>100.000000</td>\n",
              "      <td>1.000000</td>\n",
              "      <td>1.000000</td>\n",
              "      <td>84.900000</td>\n",
              "      <td>NaN</td>\n",
              "    </tr>\n",
              "    <tr>\n",
              "      <th>25%</th>\n",
              "      <td>107.000000</td>\n",
              "      <td>3.000000</td>\n",
              "      <td>1.000000</td>\n",
              "      <td>96.632500</td>\n",
              "      <td>NaN</td>\n",
              "    </tr>\n",
              "    <tr>\n",
              "      <th>50%</th>\n",
              "      <td>119.000000</td>\n",
              "      <td>3.000000</td>\n",
              "      <td>2.000000</td>\n",
              "      <td>108.935000</td>\n",
              "      <td>NaN</td>\n",
              "    </tr>\n",
              "    <tr>\n",
              "      <th>75%</th>\n",
              "      <td>139.500000</td>\n",
              "      <td>4.000000</td>\n",
              "      <td>2.000000</td>\n",
              "      <td>120.787500</td>\n",
              "      <td>NaN</td>\n",
              "    </tr>\n",
              "    <tr>\n",
              "      <th>max</th>\n",
              "      <td>254.000000</td>\n",
              "      <td>6.000000</td>\n",
              "      <td>4.000000</td>\n",
              "      <td>200.000000</td>\n",
              "      <td>NaN</td>\n",
              "    </tr>\n",
              "  </tbody>\n",
              "</table>\n",
              "</div>\n",
              "      <button class=\"colab-df-convert\" onclick=\"convertToInteractive('df-bd2f8194-84b1-480a-b72c-8435a6790256')\"\n",
              "              title=\"Convert this dataframe to an interactive table.\"\n",
              "              style=\"display:none;\">\n",
              "        \n",
              "  <svg xmlns=\"http://www.w3.org/2000/svg\" height=\"24px\"viewBox=\"0 0 24 24\"\n",
              "       width=\"24px\">\n",
              "    <path d=\"M0 0h24v24H0V0z\" fill=\"none\"/>\n",
              "    <path d=\"M18.56 5.44l.94 2.06.94-2.06 2.06-.94-2.06-.94-.94-2.06-.94 2.06-2.06.94zm-11 1L8.5 8.5l.94-2.06 2.06-.94-2.06-.94L8.5 2.5l-.94 2.06-2.06.94zm10 10l.94 2.06.94-2.06 2.06-.94-2.06-.94-.94-2.06-.94 2.06-2.06.94z\"/><path d=\"M17.41 7.96l-1.37-1.37c-.4-.4-.92-.59-1.43-.59-.52 0-1.04.2-1.43.59L10.3 9.45l-7.72 7.72c-.78.78-.78 2.05 0 2.83L4 21.41c.39.39.9.59 1.41.59.51 0 1.02-.2 1.41-.59l7.78-7.78 2.81-2.81c.8-.78.8-2.07 0-2.86zM5.41 20L4 18.59l7.72-7.72 1.47 1.35L5.41 20z\"/>\n",
              "  </svg>\n",
              "      </button>\n",
              "      \n",
              "  <style>\n",
              "    .colab-df-container {\n",
              "      display:flex;\n",
              "      flex-wrap:wrap;\n",
              "      gap: 12px;\n",
              "    }\n",
              "\n",
              "    .colab-df-convert {\n",
              "      background-color: #E8F0FE;\n",
              "      border: none;\n",
              "      border-radius: 50%;\n",
              "      cursor: pointer;\n",
              "      display: none;\n",
              "      fill: #1967D2;\n",
              "      height: 32px;\n",
              "      padding: 0 0 0 0;\n",
              "      width: 32px;\n",
              "    }\n",
              "\n",
              "    .colab-df-convert:hover {\n",
              "      background-color: #E2EBFA;\n",
              "      box-shadow: 0px 1px 2px rgba(60, 64, 67, 0.3), 0px 1px 3px 1px rgba(60, 64, 67, 0.15);\n",
              "      fill: #174EA6;\n",
              "    }\n",
              "\n",
              "    [theme=dark] .colab-df-convert {\n",
              "      background-color: #3B4455;\n",
              "      fill: #D2E3FC;\n",
              "    }\n",
              "\n",
              "    [theme=dark] .colab-df-convert:hover {\n",
              "      background-color: #434B5C;\n",
              "      box-shadow: 0px 1px 3px 1px rgba(0, 0, 0, 0.15);\n",
              "      filter: drop-shadow(0px 1px 2px rgba(0, 0, 0, 0.3));\n",
              "      fill: #FFFFFF;\n",
              "    }\n",
              "  </style>\n",
              "\n",
              "      <script>\n",
              "        const buttonEl =\n",
              "          document.querySelector('#df-bd2f8194-84b1-480a-b72c-8435a6790256 button.colab-df-convert');\n",
              "        buttonEl.style.display =\n",
              "          google.colab.kernel.accessAllowed ? 'block' : 'none';\n",
              "\n",
              "        async function convertToInteractive(key) {\n",
              "          const element = document.querySelector('#df-bd2f8194-84b1-480a-b72c-8435a6790256');\n",
              "          const dataTable =\n",
              "            await google.colab.kernel.invokeFunction('convertToInteractive',\n",
              "                                                     [key], {});\n",
              "          if (!dataTable) return;\n",
              "\n",
              "          const docLinkHtml = 'Like what you see? Visit the ' +\n",
              "            '<a target=\"_blank\" href=https://colab.research.google.com/notebooks/data_table.ipynb>data table notebook</a>'\n",
              "            + ' to learn more about interactive tables.';\n",
              "          element.innerHTML = '';\n",
              "          dataTable['output_type'] = 'display_data';\n",
              "          await google.colab.output.renderOutput(dataTable, element);\n",
              "          const docLink = document.createElement('div');\n",
              "          docLink.innerHTML = docLinkHtml;\n",
              "          element.appendChild(docLink);\n",
              "        }\n",
              "      </script>\n",
              "    </div>\n",
              "  </div>\n",
              "  "
            ],
            "text/plain": [
              "            Score  Batting Order       Inn.  Strike Rate  Unnamed: 14\n",
              "count   71.000000      71.000000  71.000000    44.000000          0.0\n",
              "mean   132.140845       3.521127   1.732394   114.019545          NaN\n",
              "std     35.911119       0.714326   0.675230    25.257567          NaN\n",
              "min    100.000000       1.000000   1.000000    84.900000          NaN\n",
              "25%    107.000000       3.000000   1.000000    96.632500          NaN\n",
              "50%    119.000000       3.000000   2.000000   108.935000          NaN\n",
              "75%    139.500000       4.000000   2.000000   120.787500          NaN\n",
              "max    254.000000       6.000000   4.000000   200.000000          NaN"
            ]
          },
          "execution_count": 5,
          "metadata": {},
          "output_type": "execute_result"
        }
      ],
      "source": [
        "df.describe()"
      ]
    },
    {
      "cell_type": "code",
      "execution_count": null,
      "metadata": {
        "colab": {
          "base_uri": "https://localhost:8080/",
          "height": 206
        },
        "id": "3jpe2BrNLuea",
        "outputId": "2e8ab993-9ae8-4c71-a084-a597b267699b"
      },
      "outputs": [
        {
          "data": {
            "text/html": [
              "\n",
              "  <div id=\"df-92cf2fd6-9e5c-4919-8b85-067cf06e5974\">\n",
              "    <div class=\"colab-df-container\">\n",
              "      <div>\n",
              "<style scoped>\n",
              "    .dataframe tbody tr th:only-of-type {\n",
              "        vertical-align: middle;\n",
              "    }\n",
              "\n",
              "    .dataframe tbody tr th {\n",
              "        vertical-align: top;\n",
              "    }\n",
              "\n",
              "    .dataframe thead th {\n",
              "        text-align: right;\n",
              "    }\n",
              "</style>\n",
              "<table border=\"1\" class=\"dataframe\">\n",
              "  <thead>\n",
              "    <tr style=\"text-align: right;\">\n",
              "      <th></th>\n",
              "      <th>Against</th>\n",
              "      <th>year</th>\n",
              "      <th>Score</th>\n",
              "    </tr>\n",
              "  </thead>\n",
              "  <tbody>\n",
              "    <tr>\n",
              "      <th>0</th>\n",
              "      <td>South Africa</td>\n",
              "      <td>2019</td>\n",
              "      <td>254</td>\n",
              "    </tr>\n",
              "    <tr>\n",
              "      <th>1</th>\n",
              "      <td>Sri Lanka</td>\n",
              "      <td>2017</td>\n",
              "      <td>243</td>\n",
              "    </tr>\n",
              "    <tr>\n",
              "      <th>2</th>\n",
              "      <td>England</td>\n",
              "      <td>2016</td>\n",
              "      <td>235</td>\n",
              "    </tr>\n",
              "    <tr>\n",
              "      <th>3</th>\n",
              "      <td>New Zealand</td>\n",
              "      <td>2016</td>\n",
              "      <td>211</td>\n",
              "    </tr>\n",
              "    <tr>\n",
              "      <th>4</th>\n",
              "      <td>Bangladesh</td>\n",
              "      <td>2017</td>\n",
              "      <td>204</td>\n",
              "    </tr>\n",
              "  </tbody>\n",
              "</table>\n",
              "</div>\n",
              "      <button class=\"colab-df-convert\" onclick=\"convertToInteractive('df-92cf2fd6-9e5c-4919-8b85-067cf06e5974')\"\n",
              "              title=\"Convert this dataframe to an interactive table.\"\n",
              "              style=\"display:none;\">\n",
              "        \n",
              "  <svg xmlns=\"http://www.w3.org/2000/svg\" height=\"24px\"viewBox=\"0 0 24 24\"\n",
              "       width=\"24px\">\n",
              "    <path d=\"M0 0h24v24H0V0z\" fill=\"none\"/>\n",
              "    <path d=\"M18.56 5.44l.94 2.06.94-2.06 2.06-.94-2.06-.94-.94-2.06-.94 2.06-2.06.94zm-11 1L8.5 8.5l.94-2.06 2.06-.94-2.06-.94L8.5 2.5l-.94 2.06-2.06.94zm10 10l.94 2.06.94-2.06 2.06-.94-2.06-.94-.94-2.06-.94 2.06-2.06.94z\"/><path d=\"M17.41 7.96l-1.37-1.37c-.4-.4-.92-.59-1.43-.59-.52 0-1.04.2-1.43.59L10.3 9.45l-7.72 7.72c-.78.78-.78 2.05 0 2.83L4 21.41c.39.39.9.59 1.41.59.51 0 1.02-.2 1.41-.59l7.78-7.78 2.81-2.81c.8-.78.8-2.07 0-2.86zM5.41 20L4 18.59l7.72-7.72 1.47 1.35L5.41 20z\"/>\n",
              "  </svg>\n",
              "      </button>\n",
              "      \n",
              "  <style>\n",
              "    .colab-df-container {\n",
              "      display:flex;\n",
              "      flex-wrap:wrap;\n",
              "      gap: 12px;\n",
              "    }\n",
              "\n",
              "    .colab-df-convert {\n",
              "      background-color: #E8F0FE;\n",
              "      border: none;\n",
              "      border-radius: 50%;\n",
              "      cursor: pointer;\n",
              "      display: none;\n",
              "      fill: #1967D2;\n",
              "      height: 32px;\n",
              "      padding: 0 0 0 0;\n",
              "      width: 32px;\n",
              "    }\n",
              "\n",
              "    .colab-df-convert:hover {\n",
              "      background-color: #E2EBFA;\n",
              "      box-shadow: 0px 1px 2px rgba(60, 64, 67, 0.3), 0px 1px 3px 1px rgba(60, 64, 67, 0.15);\n",
              "      fill: #174EA6;\n",
              "    }\n",
              "\n",
              "    [theme=dark] .colab-df-convert {\n",
              "      background-color: #3B4455;\n",
              "      fill: #D2E3FC;\n",
              "    }\n",
              "\n",
              "    [theme=dark] .colab-df-convert:hover {\n",
              "      background-color: #434B5C;\n",
              "      box-shadow: 0px 1px 3px 1px rgba(0, 0, 0, 0.15);\n",
              "      filter: drop-shadow(0px 1px 2px rgba(0, 0, 0, 0.3));\n",
              "      fill: #FFFFFF;\n",
              "    }\n",
              "  </style>\n",
              "\n",
              "      <script>\n",
              "        const buttonEl =\n",
              "          document.querySelector('#df-92cf2fd6-9e5c-4919-8b85-067cf06e5974 button.colab-df-convert');\n",
              "        buttonEl.style.display =\n",
              "          google.colab.kernel.accessAllowed ? 'block' : 'none';\n",
              "\n",
              "        async function convertToInteractive(key) {\n",
              "          const element = document.querySelector('#df-92cf2fd6-9e5c-4919-8b85-067cf06e5974');\n",
              "          const dataTable =\n",
              "            await google.colab.kernel.invokeFunction('convertToInteractive',\n",
              "                                                     [key], {});\n",
              "          if (!dataTable) return;\n",
              "\n",
              "          const docLinkHtml = 'Like what you see? Visit the ' +\n",
              "            '<a target=\"_blank\" href=https://colab.research.google.com/notebooks/data_table.ipynb>data table notebook</a>'\n",
              "            + ' to learn more about interactive tables.';\n",
              "          element.innerHTML = '';\n",
              "          dataTable['output_type'] = 'display_data';\n",
              "          await google.colab.output.renderOutput(dataTable, element);\n",
              "          const docLink = document.createElement('div');\n",
              "          docLink.innerHTML = docLinkHtml;\n",
              "          element.appendChild(docLink);\n",
              "        }\n",
              "      </script>\n",
              "    </div>\n",
              "  </div>\n",
              "  "
            ],
            "text/plain": [
              "        Against  year  Score\n",
              "0  South Africa  2019    254\n",
              "1     Sri Lanka  2017    243\n",
              "2       England  2016    235\n",
              "3   New Zealand  2016    211\n",
              "4    Bangladesh  2017    204"
            ]
          },
          "execution_count": 35,
          "metadata": {},
          "output_type": "execute_result"
        }
      ],
      "source": [
        "df.groupby(['Against','year'],as_index=False)['Score'].max().sort_values(by='Score',ascending=False).reset_index(drop=True).head()   #Kohli Scores Highest (254) Runs Against South Africa in the year 2019 and against Sri Lanka in 2017"
      ]
    },
    {
      "cell_type": "code",
      "execution_count": 10,
      "metadata": {
        "colab": {
          "base_uri": "https://localhost:8080/",
          "height": 565
        },
        "id": "cWvO-FnRMdjF",
        "outputId": "efbd8a43-0ad1-4a5e-a339-d6fe16dbcbf8"
      },
      "outputs": [
        {
          "output_type": "display_data",
          "data": {
            "text/plain": [
              "<Figure size 2160x1080 with 1 Axes>"
            ],
            "image/png": "[encoded data removed]"
          },
          "metadata": {
            "needs_background": "light"
          }
        }
      ],
      "source": [
        "df_new = df[['year','Against']]  #SEPARATE DATA FOR YEAR AND AGAINST COLUMN\n",
        "df_new\n",
        "import matplotlib.pyplot as plt\n",
        "plt.figure(figsize = (30,15))\n",
        "plt.scatter(df_new['year'],df_new['Against'])\n",
        "\n",
        "\n",
        "plt.title(\"Graph Showing Century Scored  by Kohli in terms of Opponent and its Year\")\n",
        "\n",
        "plt.show()"
      ]
    },
    {
      "cell_type": "code",
      "execution_count": null,
      "metadata": {
        "id": "tuJKssqXPx7t"
      },
      "outputs": [],
      "source": []
    }
  ],
  "metadata": {
    "colab": {
      "provenance": [],
      "authorship_tag": "ABX9TyMqFBEFMQowxCd7NiP+LiVU",
      "include_colab_link": true
    },
    "kernelspec": {
      "display_name": "Python 3",
      "name": "python3"
    },
    "language_info": {
      "name": "python"
    }
  },
  "nbformat": 4,
  "nbformat_minor": 0
}